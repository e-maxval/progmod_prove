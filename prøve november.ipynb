{
 "cells": [
  {
   "cell_type": "markdown",
   "id": "4df976c8-47ad-4a7c-b8e6-cfd03cb711f3",
   "metadata": {},
   "source": [
    "# Prøve tirsdag 22. november 2022"
   ]
  },
  {
   "cell_type": "markdown",
   "id": "d09acf1b-5446-4c85-bc81-cd500d5986bb",
   "metadata": {},
   "source": [
    "##### Maximilian G. V."
   ]
  },
  {
   "cell_type": "markdown",
   "id": "0d580374-eb89-4932-afcf-34df9fe9be43",
   "metadata": {},
   "source": [
    "## Oppgave 1"
   ]
  },
  {
   "cell_type": "code",
   "execution_count": 1,
   "id": "0f245ad6-8875-4a13-9928-c6bd34416c1b",
   "metadata": {},
   "outputs": [],
   "source": [
    "def A(a,b,c):\n",
    "    s = 1/2*(a+b+c)\n",
    "    #sjekker om trekanten er reell, siden hvis s er mindre enn eller lik a, b eller c finnes ikke trekanten\n",
    "    if any(s <= j for j in [a,b,c]):\n",
    "        print(\"Man kan ikke lage en trekant med de oppgitte tallene.\")\n",
    "    #printer hvis første kriterie er oppnådd\n",
    "    else:\n",
    "        A = (s*(s-a)*(s-b)*(s-c))**(1/2)\n",
    "        return A"
   ]
  },
  {
   "cell_type": "markdown",
   "id": "533cdb7b-f450-4f43-b34a-00f87d094ca6",
   "metadata": {},
   "source": [
    "## Oppgave 2"
   ]
  },
  {
   "cell_type": "markdown",
   "id": "50395661-51f3-4a7a-8233-b32ccc0a9b86",
   "metadata": {},
   "source": [
    "#### a)"
   ]
  },
  {
   "cell_type": "code",
   "execution_count": 2,
   "id": "2e5ea37a-9efa-4b55-93e8-d5dba46d2de1",
   "metadata": {},
   "outputs": [],
   "source": [
    "def collatz(n):\n",
    "    if type(n) != int or n <= 1:\n",
    "        print(\"Inputen må være et positivt heltall over en\")\n",
    "    else:\n",
    "        while n != 1:\n",
    "            if n%2 == 0:\n",
    "                n = n/2\n",
    "            else:\n",
    "                n = 3*n + 1\n",
    "        return n"
   ]
  },
  {
   "cell_type": "code",
   "execution_count": 3,
   "id": "d1195144-7fe3-41d3-839b-f29ecd450216",
   "metadata": {},
   "outputs": [
    {
     "data": {
      "text/plain": [
       "1.0"
      ]
     },
     "execution_count": 3,
     "metadata": {},
     "output_type": "execute_result"
    }
   ],
   "source": [
    "collatz(5)"
   ]
  },
  {
   "cell_type": "markdown",
   "id": "00c07db3-db0f-402e-b783-85f4858d9adf",
   "metadata": {},
   "source": [
    "#### b)"
   ]
  },
  {
   "cell_type": "code",
   "execution_count": 4,
   "id": "47672de7-0b42-42b8-bb3f-387ad2357b13",
   "metadata": {},
   "outputs": [],
   "source": [
    "def collatz(n):\n",
    "    if type(n) != int or n <= 1:\n",
    "        print(\"Inputen må være et positivt heltall over en\")\n",
    "    else:\n",
    "        steg = 0\n",
    "        while n != 1:\n",
    "            if n%2 == 0:\n",
    "                n = n/2\n",
    "            else:\n",
    "                n = 3*n + 1\n",
    "            steg += 1\n",
    "        return steg, n"
   ]
  },
  {
   "cell_type": "code",
   "execution_count": 5,
   "id": "f5ad43f1-e919-49d5-8c95-bed44116037e",
   "metadata": {},
   "outputs": [
    {
     "data": {
      "text/plain": [
       "(5, 1.0)"
      ]
     },
     "execution_count": 5,
     "metadata": {},
     "output_type": "execute_result"
    }
   ],
   "source": [
    "collatz(5)"
   ]
  },
  {
   "cell_type": "markdown",
   "id": "403b2129-b8bf-49d0-817a-9c9b276a791e",
   "metadata": {},
   "source": [
    "#### c)"
   ]
  },
  {
   "cell_type": "code",
   "execution_count": null,
   "id": "2dbe1175-1455-45bf-8dfa-f3623a2f8ea9",
   "metadata": {},
   "outputs": [],
   "source": [
    "Legger til tall i collatz funksjonen for å kunne retunere tallet"
   ]
  },
  {
   "cell_type": "code",
   "execution_count": 6,
   "id": "05c7d357-3519-4178-a814-4829dea47019",
   "metadata": {},
   "outputs": [],
   "source": [
    "def collatz(n):\n",
    "    tall = n\n",
    "    if type(n) != int or n <= 1:\n",
    "        print(\"Inputen må være et positivt heltall over en\")\n",
    "    else:\n",
    "        steg = 0\n",
    "        while n != 1:\n",
    "            if n%2 == 0:\n",
    "                n = n/2\n",
    "            else:\n",
    "                n = 3*n + 1\n",
    "            steg += 1\n",
    "        return steg, tall"
   ]
  },
  {
   "cell_type": "code",
   "execution_count": 7,
   "id": "9d4d98da-adb5-4623-8d10-148ecc781398",
   "metadata": {},
   "outputs": [
    {
     "data": {
      "text/plain": [
       "(8, 6)"
      ]
     },
     "execution_count": 7,
     "metadata": {},
     "output_type": "execute_result"
    }
   ],
   "source": [
    "collatz(6)"
   ]
  },
  {
   "cell_type": "code",
   "execution_count": 8,
   "id": "9d838a03-ff68-4e19-a49b-b1648ee1b41a",
   "metadata": {},
   "outputs": [],
   "source": [
    "flest_steg = [(0,0)]\n",
    "for x in range(2,1000000):\n",
    "    if collatz(x)[0] > flest_steg[0][0]:\n",
    "        flest_steg = [collatz(x)]\n",
    "    elif collatz(x)[0] == flest_steg[0][0]:\n",
    "        flest_steg.append(collatz(x))"
   ]
  },
  {
   "cell_type": "code",
   "execution_count": 9,
   "id": "80ce986a-453a-4be8-9e78-41e0e48e6d32",
   "metadata": {},
   "outputs": [
    {
     "name": "stdout",
     "output_type": "stream",
     "text": [
      "[(524, 837799)]\n"
     ]
    }
   ],
   "source": [
    "print(flest_steg)"
   ]
  },
  {
   "cell_type": "markdown",
   "id": "42352817-c6de-4c63-8e18-d122a1dd22da",
   "metadata": {},
   "source": [
    "##### 837799 lager den lengste kjeden"
   ]
  },
  {
   "cell_type": "markdown",
   "id": "dbe870b1-a5dc-4b3f-bedd-9c72d0ae3c98",
   "metadata": {},
   "source": [
    "## Oppgave 3"
   ]
  },
  {
   "cell_type": "markdown",
   "id": "2c72354c-8aad-48b5-b941-eca037f478c9",
   "metadata": {},
   "source": [
    "### a)"
   ]
  },
  {
   "cell_type": "code",
   "execution_count": 10,
   "id": "d501626d-64c9-4eca-af0d-3d40aa0685f8",
   "metadata": {},
   "outputs": [],
   "source": [
    "import numpy as np\n",
    "\n",
    "N = 1000\n",
    "n = 11\n",
    "\n",
    "T_1 = np.random.randint(1,n,N)\n",
    "T_2 = np.random.randint(1,n,N)\n",
    "Frekvens = []\n",
    "for i in range(1,100):\n",
    "    Frekvens.append(sum(T_1*T_2==i))"
   ]
  },
  {
   "cell_type": "code",
   "execution_count": 11,
   "id": "e2208b8d-28dd-4177-94fc-ec780e5aaaa1",
   "metadata": {},
   "outputs": [
    {
     "name": "stdout",
     "output_type": "stream",
     "text": [
      "0.1292929292929293\n"
     ]
    }
   ],
   "source": [
    "print(sum(Frekvens[60:])/sum(Frekvens))"
   ]
  },
  {
   "cell_type": "markdown",
   "id": "cb04b9d8-606f-476d-b155-b0af19909669",
   "metadata": {},
   "source": [
    "##### P(x > 60) er estimert til 0.129"
   ]
  },
  {
   "cell_type": "markdown",
   "id": "8daf74b5-40c2-4715-a016-a82c204eed9b",
   "metadata": {},
   "source": [
    "### b)"
   ]
  },
  {
   "cell_type": "code",
   "execution_count": 17,
   "id": "ed55dc6c-3485-4b24-acc7-075d968a8129",
   "metadata": {},
   "outputs": [],
   "source": [
    "while sum(Frekvens[60:])/sum(Frekvens) < 0.5:\n",
    "    n += 1\n",
    "    T_1 = np.random.randint(1,n,N)\n",
    "    T_2 = np.random.randint(1,n,N)\n",
    "    Frekvens = []\n",
    "    for i in range(1,100):\n",
    "        Frekvens.append(sum(T_1*T_2==i))"
   ]
  },
  {
   "cell_type": "code",
   "execution_count": 18,
   "id": "a4c63c56-9489-4781-baa0-3819c9b5f9d7",
   "metadata": {},
   "outputs": [
    {
     "name": "stdout",
     "output_type": "stream",
     "text": [
      "91\n"
     ]
    }
   ],
   "source": [
    "print(n)"
   ]
  },
  {
   "cell_type": "markdown",
   "id": "466a99c2-ab02-47e7-a853-97af5890b772",
   "metadata": {},
   "source": [
    "##### Minste antall sider en slik terning kan ha for at P(x >60) er størren enn 0.5 er 91."
   ]
  },
  {
   "cell_type": "markdown",
   "id": "0d97c761-b7d4-4002-b219-76a6d78c0700",
   "metadata": {},
   "source": [
    "## Oppgave 4"
   ]
  },
  {
   "cell_type": "markdown",
   "id": "6bd1715a-9b95-4bc1-99fd-a781abe7fbb9",
   "metadata": {},
   "source": [
    "#### a)"
   ]
  },
  {
   "cell_type": "code",
   "execution_count": 42,
   "id": "50a29cb7-83ba-41bf-aa92-ee984319b0d7",
   "metadata": {},
   "outputs": [],
   "source": [
    "def f(x):\n",
    "    return 5*x*(np.e**(-2*x))"
   ]
  },
  {
   "cell_type": "code",
   "execution_count": 50,
   "id": "845cd673-b02f-414a-9ec5-c1295a21c6d5",
   "metadata": {},
   "outputs": [],
   "source": [
    "def deriver(f, x, h):\n",
    "    dy = f(x + h) - f(x - h)\n",
    "    return dy/(2*h)"
   ]
  },
  {
   "cell_type": "code",
   "execution_count": 51,
   "id": "94c7586b-e690-4813-9885-e81069e87f08",
   "metadata": {},
   "outputs": [
    {
     "data": {
      "text/plain": [
       "0.988434518395231"
      ]
     },
     "execution_count": 51,
     "metadata": {},
     "output_type": "execute_result"
    }
   ],
   "source": [
    "deriver(f, 0.35, h = 0.25)"
   ]
  },
  {
   "cell_type": "code",
   "execution_count": 59,
   "id": "f254ef91-cbe3-488a-a1ca-8cd500df957d",
   "metadata": {},
   "outputs": [
    {
     "data": {
      "text/plain": [
       "0.8047130405197818"
      ]
     },
     "execution_count": 59,
     "metadata": {},
     "output_type": "execute_result"
    }
   ],
   "source": [
    "deriver(f, 0.35, h = 0.125)"
   ]
  },
  {
   "cell_type": "markdown",
   "id": "48d96d80-eb99-4e1f-84ab-5e00bb0fca4b",
   "metadata": {},
   "source": [
    "#### b)"
   ]
  },
  {
   "cell_type": "code",
   "execution_count": 57,
   "id": "b6af3503-3c41-4a1e-a4d0-0a80c6bb87b1",
   "metadata": {},
   "outputs": [],
   "source": [
    "def R(deriver, f, x, h):\n",
    "    D_h = deriver(f, x, h)\n",
    "    D_h2 = deriver(f, x, h/2)\n",
    "    R = ((4 * D_h2) - D_h) / 3\n",
    "    return R"
   ]
  },
  {
   "cell_type": "code",
   "execution_count": 58,
   "id": "17330531-68b5-4d6a-88b8-9f735477d0ed",
   "metadata": {},
   "outputs": [
    {
     "data": {
      "text/plain": [
       "0.743472547894632"
      ]
     },
     "execution_count": 58,
     "metadata": {},
     "output_type": "execute_result"
    }
   ],
   "source": [
    "R(deriver,f,0.35,0.25)"
   ]
  },
  {
   "cell_type": "markdown",
   "id": "ad30d7b6-9758-45de-b914-5eddae8c5930",
   "metadata": {},
   "source": [
    "#### c)"
   ]
  },
  {
   "cell_type": "markdown",
   "id": "fe9318ce-530f-4d0a-8ee3-74242eaa875c",
   "metadata": {},
   "source": [
    "#### fant derivert via geogebra"
   ]
  },
  {
   "cell_type": "code",
   "execution_count": 63,
   "id": "6145d444-8f2f-4317-a746-02e8558b8b3b",
   "metadata": {},
   "outputs": [],
   "source": [
    "def fder_analytisk(x):\n",
    "    return (-10 * x * (np.e**(-2 * x)) * np.log(np.e)) + (5 * (np.e**(-2 * x)))"
   ]
  },
  {
   "cell_type": "code",
   "execution_count": 65,
   "id": "944a3848-3335-4f14-b675-5a3dffa34e8d",
   "metadata": {},
   "outputs": [],
   "source": [
    "analytisk = fder_analytisk(0.35)"
   ]
  },
  {
   "cell_type": "code",
   "execution_count": 66,
   "id": "d4ac41cd-18bb-400e-82cd-3d117e71deea",
   "metadata": {},
   "outputs": [
    {
     "name": "stdout",
     "output_type": "stream",
     "text": [
      "0.7448779556871143\n"
     ]
    }
   ],
   "source": [
    "print(analytisk)"
   ]
  },
  {
   "cell_type": "code",
   "execution_count": 71,
   "id": "8e063a63-3808-45be-b4fe-1d3f57f1d731",
   "metadata": {},
   "outputs": [],
   "source": [
    "numerisk_1 = deriver(f, 0.35, h = 0.25)\n",
    "feil_1 = abs(numerisk_1-analytisk)/analytisk * 100"
   ]
  },
  {
   "cell_type": "code",
   "execution_count": 81,
   "id": "3e1b799a-c4ac-43ae-a70b-57afd4c4c906",
   "metadata": {},
   "outputs": [
    {
     "name": "stdout",
     "output_type": "stream",
     "text": [
      "32.69751250504485 %\n"
     ]
    }
   ],
   "source": [
    "print(feil_1, \"%\")"
   ]
  },
  {
   "cell_type": "code",
   "execution_count": 73,
   "id": "a55526c9-ebb3-4d5a-ba56-d6fbe00b46ef",
   "metadata": {},
   "outputs": [],
   "source": [
    "numerisk_2 = deriver(f, 0.35, h = 0.125)\n",
    "feil_2 = abs(numerisk_2-analytisk)/analytisk * 100"
   ]
  },
  {
   "cell_type": "code",
   "execution_count": 80,
   "id": "fc40e161-0dac-4593-8350-c15a416ad977",
   "metadata": {},
   "outputs": [
    {
     "name": "stdout",
     "output_type": "stream",
     "text": [
      "8.032870938900643 %\n"
     ]
    }
   ],
   "source": [
    "print(feil_2, \"%\")"
   ]
  },
  {
   "cell_type": "code",
   "execution_count": 76,
   "id": "8acd44b0-38c2-4f94-8546-33385bd32d3d",
   "metadata": {},
   "outputs": [],
   "source": [
    "numerisk_3 = R(deriver,f,0.35,0.25)\n",
    "feil_3 = abs(numerisk_3-analytisk)/analytisk * 100"
   ]
  },
  {
   "cell_type": "code",
   "execution_count": 79,
   "id": "206345f1-6103-4a1d-a980-23f9194a3f5f",
   "metadata": {},
   "outputs": [
    {
     "name": "stdout",
     "output_type": "stream",
     "text": [
      "0.18867624981409278 %\n"
     ]
    }
   ],
   "source": [
    "print(feil_3, \"%\")"
   ]
  },
  {
   "cell_type": "code",
   "execution_count": null,
   "id": "f56a8fd4-0921-4392-9f6a-8f44aceb585d",
   "metadata": {},
   "outputs": [],
   "source": []
  }
 ],
 "metadata": {
  "kernelspec": {
   "display_name": "Python 3 (ipykernel)",
   "language": "python",
   "name": "python3"
  },
  "language_info": {
   "codemirror_mode": {
    "name": "ipython",
    "version": 3
   },
   "file_extension": ".py",
   "mimetype": "text/x-python",
   "name": "python",
   "nbconvert_exporter": "python",
   "pygments_lexer": "ipython3",
   "version": "3.9.12"
  }
 },
 "nbformat": 4,
 "nbformat_minor": 5
}
